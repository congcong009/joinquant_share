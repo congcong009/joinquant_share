{
 "cells": [
  {
   "cell_type": "code",
   "execution_count": 4,
   "metadata": {
    "code_folding": []
   },
   "outputs": [],
   "source": [
    "from jqdata import *\n",
    "import numpy as np\n",
    "import pandas as pd\n",
    "import datetime as dt\n",
    "from six import StringIO\n",
    "from dateutil.parser import parse\n",
    "# import cPickle as pickle\n",
    "import seaborn as sns\n",
    "import matplotlib as mpl\n",
    "import os\n",
    "import statsmodels.api as sm\n",
    "import scipy\n",
    "import talib as tl\n",
    "\n",
    "\n",
    "mpl.rcParams['font.family']='serif'\n",
    "mpl.rcParams['axes.unicode_minus']=False # 处理负号\n",
    "\n",
    "class backtest_result():\n",
    "    def __init__(self,data):\n",
    "        self.data = data\n",
    "        self.total_returns = data.iloc[-1]-1\n",
    "        self.annualized_returns = data.iloc[-1]**(12./len(data))-1\n",
    "        self.annualized_volatility = data.pct_change().std()*(12.**0.5)\n",
    "    def Max_Drawback(self):\n",
    "        net_value=self.data\n",
    "        max_value=0\n",
    "        df_tmp=pd.DataFrame(net_value)\n",
    "        df_tmp.columns=['value']\n",
    "        for j in range(0,len(net_value),1):\n",
    "            max_value=max(max_value,df_tmp.ix[j,'value'])\n",
    "            df_tmp.ix[j,'drawback']=1-df_tmp.ix[j,'value']/max_value\n",
    "            drawback=df_tmp['drawback'].max()\n",
    "        return drawback\n",
    "    def Sharpe(self):\n",
    "        net_value=self.data\n",
    "        bench_pct=0.03\n",
    "        df_tmp=pd.DataFrame(net_value)\n",
    "        df_tmp.columns=['value']\n",
    "        df_tmp['pct']=df_tmp['value'].pct_change()\n",
    "        annual_pct = df_tmp.ix[-1,'value']**(12./len(df_tmp))-1\n",
    "        sharpe = (annual_pct-bench_pct)/(df_tmp['pct'].std()*12**0.5)\n",
    "        return sharpe\n",
    "    def Calmar(self):\n",
    "        clamar = self.annualized_returns/self.Max_Drawback()\n",
    "        return clamar"
   ]
  },
  {
   "cell_type": "code",
   "execution_count": null,
   "metadata": {},
   "outputs": [],
   "source": [
    "#PMI择时\n",
    "body=read_file(path+'/PMI组合.xls')\n",
    "df_boom=pd.read_excel(StringIO(body))\n",
    "print df_boom.columns\n",
    "col =u'PMI'\n",
    "df_boom=df_boom.set_index(u'日期')\n",
    "df_boom.plot(figsize=(15,6),title='PMI')\n",
    "n=3\n",
    "df_boom['position']=(pd.rolling_mean(df_boom[col],n).shift(1)>pd.rolling_mean(df_boom[col],n).shift(2))*1.\n",
    "prices = get_price('000300.XSHG',start_date='2006-01-01',end_date='2018-11-30',fields='close')['close']\n",
    "prices_M = prices.resample('M',how='last')\n",
    "rate_riskfree = 0\n",
    "df_pct=pd.DataFrame()\n",
    "df_pct['pct']=prices_M.pct_change()\n",
    "df_pct['position']=df_boom['position']\n",
    "df_pct['net_value'] =(df_pct['pct']+1).cumprod()\n",
    "df_pct['net_value_timing'] = (df_pct['pct']*df_pct['position']+rate_riskfree*(1-df_pct['position'])+1).cumprod()\n",
    "df_pct[['net_value','net_value_timing']].plot(figsize=(15,6),title='PMI择时')"
   ]
  }
 ],
 "metadata": {
  "kernelspec": {
   "display_name": "Python 3",
   "language": "python",
   "name": "python3"
  },
  "language_info": {
   "codemirror_mode": {
    "name": "ipython",
    "version": 3
   },
   "file_extension": ".py",
   "mimetype": "text/x-python",
   "name": "python",
   "nbconvert_exporter": "python",
   "pygments_lexer": "ipython3",
   "version": "3.6.7"
  },
  "toc": {
   "base_numbering": 1,
   "nav_menu": {},
   "number_sections": false,
   "sideBar": true,
   "skip_h1_title": false,
   "title_cell": "MarkDown菜单",
   "title_sidebar": "Contents",
   "toc_cell": false,
   "toc_position": {},
   "toc_section_display": true,
   "toc_window_display": false
  }
 },
 "nbformat": 4,
 "nbformat_minor": 2
}
