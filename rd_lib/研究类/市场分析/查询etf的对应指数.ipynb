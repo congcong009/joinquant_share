{
 "cells": [
  {
   "cell_type": "markdown",
   "metadata": {},
   "source": [
    "# 查询etf的对应指数"
   ]
  },
  {
   "cell_type": "code",
   "execution_count": 1,
   "metadata": {},
   "outputs": [],
   "source": [
    "from jqdata import *\n",
    "import pandas as pd\n",
    "import numpy as np\n",
    "\n",
    "def calc_corr_coef(index_a, index_b, start_dt, end_dt):\n",
    "    return np.corrcoef(\n",
    "        get_price(index_a, start_dt, end_dt, fields='close')['close'].values,\n",
    "        get_price(index_b, start_dt, end_dt, fields='close')['close'].values\n",
    "    )[0, 1]\n",
    "\n",
    "def get_corr_coef_index(stock_base, days=30, now_date=datetime.datetime.now()):\n",
    "    # type: (str, int, Union[datetime.datetime, datetime.date, str]) -> Optional[str]\n",
    "\n",
    "    trade_days = get_trade_days(end_date=now_date, count=days)\n",
    "    start_dt = trade_days[0]\n",
    "    end_dt = trade_days[-1]\n",
    "    index_list = list(get_all_securities(types=['index'], date=now_date).index)\n",
    "\n",
    "    dict_corr = {\n",
    "        index:\n",
    "            {'name': get_security_info(index).display_name,\n",
    "             'corrcoef': calc_corr_coef(stock_base, index, start_dt, end_dt)\n",
    "             }\n",
    "        for index in index_list\n",
    "    }\n",
    "    df_corr = pd.DataFrame.from_dict(dict_corr, orient='index').dropna()\n",
    "    df_corr.sort_values(by='corrcoef', ascending=False, inplace=True)\n",
    "\n",
    "    if len(df_corr) > 0 and df_corr.corrcoef[0] >= 0.98:\n",
    "        print('%s，%s 对应标的指数==> %s, %s, 跟踪准确度: %.4f' % (\n",
    "            stock_base, get_security_info(stock_base).display_name,\n",
    "            df_corr.index[0], df_corr.name[0],\n",
    "            df_corr.corrcoef[0]))\n",
    "        #\n",
    "        ret_val = df_corr.index[0]\n",
    "    else:\n",
    "        print('%s，%s ===> 未找到相关指数' % (\n",
    "            stock_base, get_security_info(stock_base).display_name))\n",
    "        #\n",
    "        ret_val = None\n",
    "    #\n",
    "    return  # ret_val"
   ]
  },
  {
   "cell_type": "code",
   "execution_count": 34,
   "metadata": {},
   "outputs": [
    {
     "name": "stdout",
     "output_type": "stream",
     "text": [
      "513020.XSHG，科技HK ===> 未找到相关指数\n"
     ]
    }
   ],
   "source": [
    "get_corr_coef_index('513020.XSHG')"
   ]
  },
  {
   "cell_type": "code",
   "execution_count": null,
   "metadata": {},
   "outputs": [],
   "source": []
  }
 ],
 "metadata": {
  "kernelspec": {
   "display_name": "Python 3",
   "language": "python",
   "name": "python3"
  },
  "language_info": {
   "codemirror_mode": {
    "name": "ipython",
    "version": 3
   },
   "file_extension": ".py",
   "mimetype": "text/x-python",
   "name": "python",
   "nbconvert_exporter": "python",
   "pygments_lexer": "ipython3",
   "version": "3.6.7"
  },
  "toc": {
   "base_numbering": 1,
   "nav_menu": {},
   "number_sections": false,
   "sideBar": true,
   "skip_h1_title": false,
   "title_cell": "MarkDown菜单",
   "title_sidebar": "Contents",
   "toc_cell": false,
   "toc_position": {},
   "toc_section_display": true,
   "toc_window_display": false
  }
 },
 "nbformat": 4,
 "nbformat_minor": 2
}