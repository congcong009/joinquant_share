{
 "cells": [
  {
   "cell_type": "markdown",
   "metadata": {},
   "source": [
    "# 【共享函数】有关交易日期及时间处理\n",
    "\n",
    "[传送门](https://www.joinquant.com/view/community/detail/c9827c6126003147912f1b47967052d9?type=1)\n",
    "\n",
    "有关交易日期的问题：\n",
    "- 获取前n个交易日；\n",
    "- 有关日期的应用；\n",
    "- datetime的常用方法；\n",
    "- 获取某日前或者后第几个交易日的方法；\n",
    "- 获取去年的今天对应的日期\n",
    "- 获取持仓标的从买入到现在经历了几个交易日\n",
    "- 获取每月/每周的 (倒数) 第N个交易日"
   ]
  },
  {
   "cell_type": "code",
   "execution_count": 2,
   "metadata": {},
   "outputs": [],
   "source": [
    "from jqdata import *\n",
    "import pandas as pd"
   ]
  },
  {
   "cell_type": "markdown",
   "metadata": {},
   "source": [
    "## 获取前或后n天交易日的方法，以及datetime常用方法"
   ]
  },
  {
   "cell_type": "code",
   "execution_count": 3,
   "metadata": {},
   "outputs": [
    {
     "data": {
      "text/plain": [
       "'2019-11-01'"
      ]
     },
     "execution_count": 3,
     "metadata": {},
     "output_type": "execute_result"
    }
   ],
   "source": [
    "def get_before_after_trade_days(date, count, is_before=True):\n",
    "    \"\"\"\n",
    "    date :查询日期\n",
    "    count : 前后追朔的数量\n",
    "    is_before : True , 前count个交易日  ; False ,后count个交易日\n",
    "\n",
    "    返回 : 基于date的日期, 向前或者向后count个交易日的日期 ,一个datetime.date 对象\n",
    "    \"\"\"\n",
    "    from jqdata import  get_trade_days\n",
    "    import pandas as pd\n",
    "    all_date = pd.Series(get_all_trade_days())\n",
    "    if isinstance(date,str):\n",
    "        all_date = all_date.astype(str)\n",
    "    if isinstance(date,datetime.datetime):\n",
    "        date = date.date()\n",
    "\n",
    "    if is_before :\n",
    "        return all_date[all_date< date].tail(count).values[0]\n",
    "    else :\n",
    "        return all_date[all_date>date].head(count).values[-1]\n",
    "\n",
    "\n",
    "\n",
    "date = \"2019-10-20\"#datetime.date(2019,10,20)\n",
    "count = 10\n",
    "is_before = False    \n",
    "get_before_after_trade_days(date, count, is_before)"
   ]
  },
  {
   "cell_type": "markdown",
   "metadata": {},
   "source": [
    "## 获取去年的今天对应的日期"
   ]
  },
  {
   "cell_type": "code",
   "execution_count": 6,
   "metadata": {},
   "outputs": [],
   "source": [
    "def get_last_year_date(context):\n",
    "    \"\"\"\n",
    "    获取去年的今天对应的日期\n",
    "        例如：现在是2018-08-15，则去年的今天是2017-08-15\n",
    "    \"\"\"\n",
    "    now = context.current_dt\n",
    "    last_one_year = int(now.year) - 1\n",
    "    now_date = now.strftime(\"%Y-%m-%d\")[-6:]\n",
    "    last_year_date =  str(last_one_year) + now_date\n",
    "    print(last_year_date)\n",
    "    return last_year_date"
   ]
  },
  {
   "cell_type": "markdown",
   "metadata": {},
   "source": [
    "## 获取持仓标的从买入到现在经历了几个交易日"
   ]
  },
  {
   "cell_type": "code",
   "execution_count": 5,
   "metadata": {},
   "outputs": [],
   "source": [
    "import datetime\n",
    "\n",
    "def initialize(context):\n",
    "    # 初始化买入（一般不这样买入，此处为了方便测试函数）\n",
    "    order('000001.XSHE', 100)\n",
    "    run_daily(trade_days, time='10:00')\n",
    "\n",
    "def trade_days(context):\n",
    "    current_date = context.current_dt.date()\n",
    "    hold_security = [p for p in context.portfolio.positions]\n",
    "    print('今天持仓股票为:{0}'.format(hold_security))\n",
    "    # 判断是否达到持仓日\n",
    "    for stock in hold_security:\n",
    "        # 第一次买入时间\n",
    "        init_time = context.portfolio.positions[stock].init_time\n",
    "        transact_time = context.portfolio.positions[stock].transact_time\n",
    "        # 有多少个交易日\n",
    "        trade_day = len(get_trade_days(start_date=init_time, end_date=current_date))\n",
    "        print(\"{0}的买入时间为{1}，最后交易时间为{2}，今天的日期为{3}, 买入至今{4}个交易日\".format(stock, \n",
    "                init_time, transact_time, current_date, trade_day))"
   ]
  },
  {
   "cell_type": "markdown",
   "metadata": {},
   "source": [
    "## 获取每月/每周的 (倒数) 第N个交易日"
   ]
  },
  {
   "cell_type": "code",
   "execution_count": 7,
   "metadata": {},
   "outputs": [
    {
     "ename": "SyntaxError",
     "evalue": "invalid syntax (<ipython-input-7-e526b2f48666>, line 48)",
     "output_type": "error",
     "traceback": [
      "\u001b[0;36m  File \u001b[0;32m\"<ipython-input-7-e526b2f48666>\"\u001b[0;36m, line \u001b[0;32m48\u001b[0m\n\u001b[0;31m    return res[res.date< =end_date].tail(count)\u001b[0m\n\u001b[0m                         ^\u001b[0m\n\u001b[0;31mSyntaxError\u001b[0m\u001b[0;31m:\u001b[0m invalid syntax\n"
     ]
    }
   ],
   "source": [
    "def get_trade_day_bar(unit='W' , n=1 ,start_date=None,end_date=None,count=None):\n",
    "    \"\"\"\n",
    "    unit : 频率 , \"W\"代表周 或者 \"M\"代表月\n",
    "    n : 第几个交易日 , 每月第一个交易日: n=1 , 每月最后一个交易日 : n= -1 ,每月倒数第三个交易日 : n= -3 , 如果不足abs(n)个交易日,则返回符合条件的最近的一个交易日 \n",
    "    start_date : 开始时间\n",
    "    end_date : 结束时间\n",
    "    count : 返回数据条数 , 指定start_date及count时返回start_date向后count条数据 , 指定end_date及count时返回end_date向前count条数据\n",
    "\n",
    "    返回的数据会在 get_all_trade_days 以内\n",
    "    返回 : 一个dataframe ,具体列含义见源码, date列就是需要获取的交易日了(datetime格式) \n",
    "    \"\"\"\n",
    "    import pandas as pd \n",
    "    from jqdata import get_all_trade_days,get_trade_days \n",
    "\n",
    "    df = pd.DataFrame(pd.to_datetime(get_all_trade_days()),columns=['date'])\n",
    "    week_stamp = 24*60*60*7\n",
    "    day_stamp = 24*60*60\n",
    "    df['timestamp'] = df.date.apply(lambda x: x.timestamp() - day_stamp*3  )  #基于1970-01-01偏移三天\n",
    "    df['mkweek'] = df.timestamp // week_stamp     # 1970-01-01 至今的第几周, 直接取每年的第几周再换年时会有问题\n",
    "#     df['weekday'] = (df.timestamp %  week_stamp)/day_stamp   #周几\n",
    "#     df['monthday'] = df.date.apply(lambda x : x.day)  #日\n",
    "    df['month'] = df.date.apply(lambda x : x.month)   #月\n",
    "    df['year'] = df.date.apply(lambda x : x.year)     #年\n",
    "\n",
    "    if unit == \"W\":\n",
    "        group_list = ['mkweek']\n",
    "    elif unit ==\"M\":\n",
    "        group_list = [\"year\",\"month\"]\n",
    "    else :\n",
    "        raise ValueError ('只支持M参数为 \"M\"或\"W\" ')\n",
    "\n",
    "    if not isinstance(n , int):\n",
    "        raise ValueError ('n 参数应该是一个int')\n",
    "    elif n >0 :\n",
    "        res =  df.groupby(group_list,as_index=False).head(n).groupby(group_list,as_index=False).last()\n",
    "    elif n< 0:\n",
    "        res =  df.groupby(group_list,as_index=False).tail(-n).groupby(group_list,as_index=False).first()    \n",
    "    else :\n",
    "        raise ValueError ('n 参数错误 : n={}'.format(n))\n",
    "\n",
    "\n",
    "    if start_date and end_date and count:\n",
    "        raise ValueError ('start_date ,end_date ,count 必须三选二')\n",
    "\n",
    "    elif start_date and count :\n",
    "        return res[res.date>=start_date].head(count)\n",
    "    elif end_date and count :\n",
    "        return res[res.date< =end_date].tail(count)\n",
    "    elif start_date and end_date:\n",
    "        return res[(res.date< =end_date)&amp;(res.date>=start_date)]\n",
    "    elif not  start_date and not end_date and not  count:\n",
    "        return res\n",
    "    else:\n",
    "        raise ValueError ('start_date ,end_date ,count 必须三选二')\n",
    "\n",
    "\n",
    "res = get_trade_day_bar(\"M\",-5,count=10,start_date='2015-09-15')\n",
    "res"
   ]
  },
  {
   "cell_type": "code",
   "execution_count": null,
   "metadata": {},
   "outputs": [],
   "source": []
  }
 ],
 "metadata": {
  "kernelspec": {
   "display_name": "Python 3",
   "language": "python",
   "name": "python3"
  },
  "language_info": {
   "codemirror_mode": {
    "name": "ipython",
    "version": 3
   },
   "file_extension": ".py",
   "mimetype": "text/x-python",
   "name": "python",
   "nbconvert_exporter": "python",
   "pygments_lexer": "ipython3",
   "version": "3.6.7"
  },
  "toc": {
   "base_numbering": 1,
   "nav_menu": {},
   "number_sections": false,
   "sideBar": true,
   "skip_h1_title": false,
   "title_cell": "MarkDown菜单",
   "title_sidebar": "Contents",
   "toc_cell": false,
   "toc_position": {},
   "toc_section_display": true,
   "toc_window_display": false
  }
 },
 "nbformat": 4,
 "nbformat_minor": 2
}
